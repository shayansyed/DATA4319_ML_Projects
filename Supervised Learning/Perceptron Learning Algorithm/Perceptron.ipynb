{
 "cells": [
  {
   "cell_type": "markdown",
   "metadata": {},
   "source": [
    "# Perceptron Algorithm in Python\n",
    "![alt text](neuron.jpg)\n",
    "![alt text](perceptron.png)"
   ]
  },
  {
   "cell_type": "code",
   "execution_count": 1,
   "metadata": {},
   "outputs": [],
   "source": [
    "import numpy as np"
   ]
  },
  {
   "cell_type": "code",
   "execution_count": 2,
   "metadata": {},
   "outputs": [],
   "source": [
    "class Perceptron:\n",
    "        \n",
    "    def __init__(self, learning_rate = 0.01, num_of_iters = 1000):\n",
    "        \n",
    "        self.lr = learning_rate\n",
    "        self.num_of_iters = num_of_iters\n",
    "        self.activation_func = self._unit_step_func\n",
    "        self.weights = None\n",
    "        self.bias = None\n",
    "\n",
    "   \n",
    "\n",
    "    # Define the fit method with the training samples (X) and the training labels (y)\n",
    "    def fit(self, X, y):\n",
    "        \n",
    "        n_samples, n_features = X.shape\n",
    "\n",
    "        # initial parameters\n",
    "        self.weights = np.zeros(n_features)\n",
    "        self.bias = 0\n",
    "\n",
    "        y_ = np.array([1 if i > 0 else 0 for i in y])\n",
    "\n",
    "        for _ in range(self.num_of_iters):\n",
    "\n",
    "            for idx, x_i in enumerate(X):\n",
    "\n",
    "                linear_output = np.dot(x_i, self.weights) + self.bias\n",
    "                y_predicted = self.activation_func(linear_output)\n",
    "\n",
    "                # Perceptron update rule\n",
    "                update = self.lr * (y_[idx] - y_predicted)\n",
    "\n",
    "                self.weights += update * x_i\n",
    "                self.bias += update\n",
    "\n",
    "    \n",
    "    \n",
    "    # Define the predict method with the test samples (X)\n",
    "    def predict(self, X):\n",
    "        linear_output = np.dot(X, self.weights) + self.bias\n",
    "        y_predicted = self.activation_func(linear_output)\n",
    "        return y_predicted\n",
    "\n",
    "    \n",
    "    \n",
    "    # This is the activation function\n",
    "    def _unit_step_func(self, x):\n",
    "        return np.where(x >= 0, 1, 0)"
   ]
  },
  {
   "cell_type": "markdown",
   "metadata": {},
   "source": [
    "# Perceptron Algorithm on Randomly Generated Data"
   ]
  },
  {
   "cell_type": "code",
   "execution_count": 3,
   "metadata": {},
   "outputs": [
    {
     "name": "stdout",
     "output_type": "stream",
     "text": [
      "Perceptron classification accuracy 1.0\n"
     ]
    },
    {
     "data": {
      "image/png": "[encoded data removed]",
      "text/plain": [
       "<Figure size 432x288 with 1 Axes>"
      ]
     },
     "metadata": {
      "needs_background": "light"
     },
     "output_type": "display_data"
    }
   ],
   "source": [
    "if __name__ == \"__main__\":\n",
    "    \n",
    "    \n",
    "    \n",
    "    import matplotlib.pyplot as plt\n",
    "    from sklearn.model_selection import train_test_split\n",
    "    from sklearn import datasets\n",
    "\n",
    "    \n",
    "    def accuracy(y_true, y_pred):\n",
    "        accuracy = np.sum(y_true == y_pred) / len(y_true)\n",
    "        return accuracy\n",
    "\n",
    "    \n",
    "    \n",
    "    \n",
    "    \n",
    "    # This will generate two classes\n",
    "    X, y = datasets.make_blobs(\n",
    "        n_samples=150, n_features=2, centers=2, cluster_std=1.05, random_state=2\n",
    "    )\n",
    "    \n",
    "    \n",
    "    # This will split the previously generated data into training samples/test samples and training labels/test labels\n",
    "    X_train, X_test, y_train, y_test = train_test_split(\n",
    "        X, y, test_size=0.2, random_state=123\n",
    "    )\n",
    "\n",
    "    \n",
    "    \n",
    "    \n",
    "    \n",
    "    # Create a Perceptron\n",
    "    p = Perceptron(learning_rate=0.01, num_of_iters=1000)\n",
    "    \n",
    "    # Fit the training data\n",
    "    p.fit(X_train, y_train)\n",
    "    \n",
    "    # Predict the test labels\n",
    "    predictions = p.predict(X_test)\n",
    "\n",
    "    # Calculate the accuracy\n",
    "    print(\"Perceptron classification accuracy\", accuracy(y_test, predictions))\n",
    "\n",
    "    \n",
    "    \n",
    "    \n",
    "    \n",
    "    # This will plot our results\n",
    "    fig = plt.figure()\n",
    "    ax = fig.add_subplot(1, 1, 1)\n",
    "    plt.scatter(X_train[:, 0], X_train[:, 1], marker=\"o\", c=y_train)\n",
    "\n",
    "    x0_1 = np.amin(X_train[:, 0])\n",
    "    x0_2 = np.amax(X_train[:, 0])\n",
    "\n",
    "    x1_1 = (-p.weights[0] * x0_1 - p.bias) / p.weights[1]\n",
    "    x1_2 = (-p.weights[0] * x0_2 - p.bias) / p.weights[1]\n",
    "\n",
    "    ax.plot([x0_1, x0_2], [x1_1, x1_2], \"k\")\n",
    "\n",
    "    ymin = np.amin(X_train[:, 1])\n",
    "    ymax = np.amax(X_train[:, 1])\n",
    "    ax.set_ylim([ymin - 3, ymax + 3])\n",
    "\n",
    "    plt.show()"
   ]
  },
  {
   "cell_type": "markdown",
   "metadata": {},
   "source": [
    "# Perceptron Learning Algorithm on Iris Data\n",
    "## As Shown in Class"
   ]
  },
  {
   "cell_type": "code",
   "execution_count": 4,
   "metadata": {},
   "outputs": [
    {
     "data": {
      "text/html": [
       "<div>\n",
       "<style scoped>\n",
       "    .dataframe tbody tr th:only-of-type {\n",
       "        vertical-align: middle;\n",
       "    }\n",
       "\n",
       "    .dataframe tbody tr th {\n",
       "        vertical-align: top;\n",
       "    }\n",
       "\n",
       "    .dataframe thead th {\n",
       "        text-align: right;\n",
       "    }\n",
       "</style>\n",
       "<table border=\"1\" class=\"dataframe\">\n",
       "  <thead>\n",
       "    <tr style=\"text-align: right;\">\n",
       "      <th></th>\n",
       "      <th>sepal length (cm)</th>\n",
       "      <th>sepal width (cm)</th>\n",
       "      <th>petal length (cm)</th>\n",
       "      <th>petal width (cm)</th>\n",
       "      <th>target</th>\n",
       "    </tr>\n",
       "  </thead>\n",
       "  <tbody>\n",
       "    <tr>\n",
       "      <th>0</th>\n",
       "      <td>5.1</td>\n",
       "      <td>3.5</td>\n",
       "      <td>1.4</td>\n",
       "      <td>0.2</td>\n",
       "      <td>0</td>\n",
       "    </tr>\n",
       "    <tr>\n",
       "      <th>1</th>\n",
       "      <td>4.9</td>\n",
       "      <td>3.0</td>\n",
       "      <td>1.4</td>\n",
       "      <td>0.2</td>\n",
       "      <td>0</td>\n",
       "    </tr>\n",
       "    <tr>\n",
       "      <th>2</th>\n",
       "      <td>4.7</td>\n",
       "      <td>3.2</td>\n",
       "      <td>1.3</td>\n",
       "      <td>0.2</td>\n",
       "      <td>0</td>\n",
       "    </tr>\n",
       "    <tr>\n",
       "      <th>3</th>\n",
       "      <td>4.6</td>\n",
       "      <td>3.1</td>\n",
       "      <td>1.5</td>\n",
       "      <td>0.2</td>\n",
       "      <td>0</td>\n",
       "    </tr>\n",
       "    <tr>\n",
       "      <th>4</th>\n",
       "      <td>5.0</td>\n",
       "      <td>3.6</td>\n",
       "      <td>1.4</td>\n",
       "      <td>0.2</td>\n",
       "      <td>0</td>\n",
       "    </tr>\n",
       "    <tr>\n",
       "      <th>...</th>\n",
       "      <td>...</td>\n",
       "      <td>...</td>\n",
       "      <td>...</td>\n",
       "      <td>...</td>\n",
       "      <td>...</td>\n",
       "    </tr>\n",
       "    <tr>\n",
       "      <th>95</th>\n",
       "      <td>5.7</td>\n",
       "      <td>3.0</td>\n",
       "      <td>4.2</td>\n",
       "      <td>1.2</td>\n",
       "      <td>1</td>\n",
       "    </tr>\n",
       "    <tr>\n",
       "      <th>96</th>\n",
       "      <td>5.7</td>\n",
       "      <td>2.9</td>\n",
       "      <td>4.2</td>\n",
       "      <td>1.3</td>\n",
       "      <td>1</td>\n",
       "    </tr>\n",
       "    <tr>\n",
       "      <th>97</th>\n",
       "      <td>6.2</td>\n",
       "      <td>2.9</td>\n",
       "      <td>4.3</td>\n",
       "      <td>1.3</td>\n",
       "      <td>1</td>\n",
       "    </tr>\n",
       "    <tr>\n",
       "      <th>98</th>\n",
       "      <td>5.1</td>\n",
       "      <td>2.5</td>\n",
       "      <td>3.0</td>\n",
       "      <td>1.1</td>\n",
       "      <td>1</td>\n",
       "    </tr>\n",
       "    <tr>\n",
       "      <th>99</th>\n",
       "      <td>5.7</td>\n",
       "      <td>2.8</td>\n",
       "      <td>4.1</td>\n",
       "      <td>1.3</td>\n",
       "      <td>1</td>\n",
       "    </tr>\n",
       "  </tbody>\n",
       "</table>\n",
       "<p>100 rows × 5 columns</p>\n",
       "</div>"
      ],
      "text/plain": [
       "    sepal length (cm)  sepal width (cm)  petal length (cm)  petal width (cm)  \\\n",
       "0                 5.1               3.5                1.4               0.2   \n",
       "1                 4.9               3.0                1.4               0.2   \n",
       "2                 4.7               3.2                1.3               0.2   \n",
       "3                 4.6               3.1                1.5               0.2   \n",
       "4                 5.0               3.6                1.4               0.2   \n",
       "..                ...               ...                ...               ...   \n",
       "95                5.7               3.0                4.2               1.2   \n",
       "96                5.7               2.9                4.2               1.3   \n",
       "97                6.2               2.9                4.3               1.3   \n",
       "98                5.1               2.5                3.0               1.1   \n",
       "99                5.7               2.8                4.1               1.3   \n",
       "\n",
       "    target  \n",
       "0        0  \n",
       "1        0  \n",
       "2        0  \n",
       "3        0  \n",
       "4        0  \n",
       "..     ...  \n",
       "95       1  \n",
       "96       1  \n",
       "97       1  \n",
       "98       1  \n",
       "99       1  \n",
       "\n",
       "[100 rows x 5 columns]"
      ]
     },
     "execution_count": 4,
     "metadata": {},
     "output_type": "execute_result"
    }
   ],
   "source": [
    "# import the necessary libraries\n",
    "import matplotlib.pyplot as plt\n",
    "import pandas as pd\n",
    "import numpy as np\n",
    "\n",
    "# import datasets from sklearn which contains the iris data\n",
    "from sklearn import datasets\n",
    "\n",
    "# load the iris data (specifying type as data frames)\n",
    "iris = datasets.load_iris(as_frame=True)\n",
    "\n",
    "\n",
    "df = iris.frame\n",
    "df = df.iloc[:100]\n",
    "df"
   ]
  },
  {
   "cell_type": "code",
   "execution_count": 5,
   "metadata": {},
   "outputs": [
    {
     "name": "stderr",
     "output_type": "stream",
     "text": [
      "<ipython-input-5-2103e3f0f757>:2: SettingWithCopyWarning: \n",
      "A value is trying to be set on a copy of a slice from a DataFrame.\n",
      "Try using .loc[row_indexer,col_indexer] = value instead\n",
      "\n",
      "See the caveats in the documentation: https://pandas.pydata.org/pandas-docs/stable/user_guide/indexing.html#returning-a-view-versus-a-copy\n",
      "  df_classify[\"ones\"] = np.ones(100)\n",
      "C:\\Users\\shaya\\anaconda3\\lib\\site-packages\\pandas\\core\\indexing.py:670: SettingWithCopyWarning: \n",
      "A value is trying to be set on a copy of a slice from a DataFrame\n",
      "\n",
      "See the caveats in the documentation: https://pandas.pydata.org/pandas-docs/stable/user_guide/indexing.html#returning-a-view-versus-a-copy\n",
      "  iloc._setitem_with_indexer(indexer, value)\n",
      "<ipython-input-5-2103e3f0f757>:8: SettingWithCopyWarning: \n",
      "A value is trying to be set on a copy of a slice from a DataFrame\n",
      "\n",
      "See the caveats in the documentation: https://pandas.pydata.org/pandas-docs/stable/user_guide/indexing.html#returning-a-view-versus-a-copy\n",
      "  df_classify[\"target\"].iloc[i] = 1.0\n",
      "<ipython-input-5-2103e3f0f757>:10: SettingWithCopyWarning: \n",
      "A value is trying to be set on a copy of a slice from a DataFrame\n",
      "\n",
      "See the caveats in the documentation: https://pandas.pydata.org/pandas-docs/stable/user_guide/indexing.html#returning-a-view-versus-a-copy\n",
      "  df_classify[\"target\"].iloc[i] = -1.0\n"
     ]
    },
    {
     "data": {
      "text/plain": [
       "array([5.1, 3.5, 1. ])"
      ]
     },
     "execution_count": 5,
     "metadata": {},
     "output_type": "execute_result"
    }
   ],
   "source": [
    "df_classify = df[[\"sepal length (cm)\", \"sepal width (cm)\", \"target\"]]\n",
    "df_classify[\"ones\"] = np.ones(100)\n",
    "\n",
    "\n",
    "\n",
    "for i in range(100):\n",
    "    if df_classify[\"target\"].iloc[i] == 0:\n",
    "        df_classify[\"target\"].iloc[i] = 1.0\n",
    "    else:\n",
    "        df_classify[\"target\"].iloc[i] = -1.0\n",
    "        \n",
    "\n",
    "        \n",
    "        X = df_classify[[\"sepal length (cm)\", \"sepal width (cm)\", \"ones\"]].to_numpy()\n",
    "y = df_classify[\"target\"].to_numpy()\n",
    "\n",
    "\n",
    "\n",
    "X[0]"
   ]
  },
  {
   "cell_type": "code",
   "execution_count": 6,
   "metadata": {},
   "outputs": [
    {
     "data": {
      "text/plain": [
       "Text(0.5, 1.0, 'Iris Data Plot')"
      ]
     },
     "execution_count": 6,
     "metadata": {},
     "output_type": "execute_result"
    },
    {
     "data": {
      "image/png": "[encoded data removed]",
      "text/plain": [
       "<Figure size 864x576 with 1 Axes>"
      ]
     },
     "metadata": {
      "needs_background": "light"
     },
     "output_type": "display_data"
    }
   ],
   "source": [
    "plt.figure(figsize = (12, 8))\n",
    "\n",
    "plt.scatter(X[:50, 0],\n",
    "            X[:50, 1], \n",
    "            label = 'setosa', \n",
    "            color = 'r')\n",
    "\n",
    "plt.scatter(X[50:, 0], \n",
    "            X[50:, 1], \n",
    "            label = 'versicolor', \n",
    "            color = 'blue')\n",
    "\n",
    "plt.xlabel('sepal length (cm)')\n",
    "plt.ylabel('sepal width (cm)')\n",
    "plt.legend()\n",
    "plt.title(\"Iris Data Plot\")"
   ]
  },
  {
   "cell_type": "code",
   "execution_count": 7,
   "metadata": {},
   "outputs": [
    {
     "name": "stdout",
     "output_type": "stream",
     "text": [
      "100.0\n"
     ]
    }
   ],
   "source": [
    "def sign(x, y):\n",
    "    # the input vectors here should be numpy arrays\n",
    "    if x @ y > 0:\n",
    "        return 1.0\n",
    "    else:\n",
    "        return -1.0\n",
    "    \n",
    "def L(w, features = X, labels = y):\n",
    "    return sum(.5*(sign(w, x) - labels[i])**2 for i, x in enumerate(features))\n",
    "\n",
    "w = np.random.rand(3)\n",
    "print(L(w))"
   ]
  },
  {
   "cell_type": "code",
   "execution_count": 8,
   "metadata": {},
   "outputs": [
    {
     "name": "stdout",
     "output_type": "stream",
     "text": [
      "The Loss before implementing stochastic approx gradient descent = 100.0\n",
      "The Loss after implementing stochastic approx gradient descent = 4.0\n"
     ]
    },
    {
     "data": {
      "text/plain": [
       "[<matplotlib.lines.Line2D at 0x20d5da8ad90>]"
      ]
     },
     "execution_count": 8,
     "metadata": {},
     "output_type": "execute_result"
    },
    {
     "data": {
      "image/png": "[encoded data removed]",
      "text/plain": [
       "<Figure size 432x288 with 1 Axes>"
      ]
     },
     "metadata": {
      "needs_background": "light"
     },
     "output_type": "display_data"
    }
   ],
   "source": [
    "def grad_approx(w, x, y):\n",
    "    return (sign(w,x) - y)*x\n",
    "\n",
    "# set epochs\n",
    "epochs = 5000\n",
    "\n",
    "# set alpha\n",
    "alpha = .5\n",
    "\n",
    "\n",
    "\n",
    "w = np.random.rand(3)\n",
    "print(f\"The Loss before implementing stochastic approx gradient descent = {L(w)}\")\n",
    "losses = []\n",
    "for epoch in range(epochs+10000):\n",
    "    random_index = np.random.randint(100)\n",
    "    w = w - alpha*grad_approx(w, X[random_index], y[random_index])\n",
    "    losses.append(L(w))\n",
    "print(f\"The Loss after implementing stochastic approx gradient descent = {L(w)}\")\n",
    "plt.plot(losses)"
   ]
  },
  {
   "cell_type": "code",
   "execution_count": 9,
   "metadata": {},
   "outputs": [
    {
     "name": "stdout",
     "output_type": "stream",
     "text": [
      "The Loss before implementing stochastic approx gradient descent = 100.0\n",
      "The Loss after implementing stochastic approx gradient descent = 0.0\n"
     ]
    },
    {
     "data": {
      "text/plain": [
       "[<matplotlib.lines.Line2D at 0x20d5dad7f40>]"
      ]
     },
     "execution_count": 9,
     "metadata": {},
     "output_type": "execute_result"
    },
    {
     "data": {
      "image/png": "[encoded data removed]",
      "text/plain": [
       "<Figure size 432x288 with 1 Axes>"
      ]
     },
     "metadata": {
      "needs_background": "light"
     },
     "output_type": "display_data"
    }
   ],
   "source": [
    "w = np.random.rand(3)\n",
    "print(f\"The Loss before implementing stochastic approx gradient descent = {L(w)}\")\n",
    "losses = []\n",
    "batch_size = 30\n",
    "for epoch in range(epochs):\n",
    "    batch_grad = np.zeros(3)\n",
    "    for _ in range(batch_size):\n",
    "        random_index = np.random.randint(100)\n",
    "        batch_grad += grad_approx(w, X[random_index], y[random_index]) \n",
    "    w = w - alpha*batch_grad\n",
    "    losses.append(L(w))\n",
    "print(f\"The Loss after implementing stochastic approx gradient descent = {L(w)}\")\n",
    "plt.plot(losses)"
   ]
  },
  {
   "cell_type": "code",
   "execution_count": 10,
   "metadata": {},
   "outputs": [
    {
     "name": "stdout",
     "output_type": "stream",
     "text": [
      "The Loss before implementing stochastic approx gradient descent = 100.0\n",
      "The Loss after implementing stochastic approx gradient descent = 0.0\n"
     ]
    },
    {
     "data": {
      "text/plain": [
       "[<matplotlib.lines.Line2D at 0x20d5db6a760>]"
      ]
     },
     "execution_count": 10,
     "metadata": {},
     "output_type": "execute_result"
    },
    {
     "data": {
      "image/png": "[encoded data removed]",
      "text/plain": [
       "<Figure size 432x288 with 1 Axes>"
      ]
     },
     "metadata": {
      "needs_background": "light"
     },
     "output_type": "display_data"
    }
   ],
   "source": [
    "def full_grad_approx(w, features=X, labels=y):\n",
    "    return sum((sign(w,x) - labels[i])*x for i, x in enumerate(features))\n",
    "\n",
    "\n",
    "w = np.random.rand(3)\n",
    "print(f\"The Loss before implementing stochastic approx gradient descent = {L(w)}\")\n",
    "losses = []\n",
    "for epoch in range(20000):\n",
    "    w = w - alpha*full_grad_approx(w)\n",
    "    losses.append(L(w))\n",
    "print(f\"The Loss after implementing stochastic approx gradient descent = {L(w)}\")\n",
    "plt.plot(losses)"
   ]
  },
  {
   "cell_type": "code",
   "execution_count": 11,
   "metadata": {},
   "outputs": [
    {
     "data": {
      "text/plain": [
       "array([-458.31087093,  587.30358885,  711.6639899 ])"
      ]
     },
     "execution_count": 11,
     "metadata": {},
     "output_type": "execute_result"
    }
   ],
   "source": [
    "w"
   ]
  },
  {
   "cell_type": "code",
   "execution_count": 12,
   "metadata": {},
   "outputs": [
    {
     "data": {
      "text/plain": [
       "Text(0.5, 1.0, 'Iris Data Plot')"
      ]
     },
     "execution_count": 12,
     "metadata": {},
     "output_type": "execute_result"
    },
    {
     "data": {
      "image/png": "[encoded data removed]",
      "text/plain": [
       "<Figure size 864x576 with 1 Axes>"
      ]
     },
     "metadata": {
      "needs_background": "light"
     },
     "output_type": "display_data"
    }
   ],
   "source": [
    "domain = np.arange(3.5, 7.5, .5)\n",
    "line = [(w[0]*x + w[2])/-w[1] for x in domain]\n",
    "\n",
    "\n",
    "plt.figure(figsize = (12, 8))\n",
    "\n",
    "plt.scatter(X[:50, 0],\n",
    "            X[:50, 1], \n",
    "            label = 'setosa', \n",
    "            color = 'r')\n",
    "\n",
    "plt.scatter(X[50:, 0], \n",
    "            X[50:, 1], \n",
    "            label = 'versicolor', \n",
    "            color = 'blue')\n",
    "\n",
    "plt.plot(domain, \n",
    "         line, \n",
    "         label = 'seperator', \n",
    "         color='orange')\n",
    "\n",
    "plt.xlabel('sepal length (cm)')\n",
    "plt.ylabel('sepal width (cm)')\n",
    "plt.legend()\n",
    "plt.title(\"Iris Data Plot\")"
   ]
  }
 ],
 "metadata": {
  "kernelspec": {
   "display_name": "Python 3",
   "language": "python",
   "name": "python3"
  },
  "language_info": {
   "codemirror_mode": {
    "name": "ipython",
    "version": 3
   },
   "file_extension": ".py",
   "mimetype": "text/x-python",
   "name": "python",
   "nbconvert_exporter": "python",
   "pygments_lexer": "ipython3",
   "version": "3.8.5"
  }
 },
 "nbformat": 4,
 "nbformat_minor": 4
}
