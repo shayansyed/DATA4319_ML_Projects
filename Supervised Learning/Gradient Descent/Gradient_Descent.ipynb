{
 "cells": [
  {
   "cell_type": "markdown",
   "metadata": {},
   "source": [
    "# Linear Regression with Gradient Descent in Python"
   ]
  },
  {
   "cell_type": "markdown",
   "metadata": {},
   "source": [
    "## Gradient Descent\n",
    "![alt text](gradient_descent.png)\n",
    "\n",
    "## Learning Rate\n",
    "![alt text](gradient_descent2.png)"
   ]
  },
  {
   "cell_type": "code",
   "execution_count": 8,
   "metadata": {},
   "outputs": [],
   "source": [
    "import numpy as np"
   ]
  },
  {
   "cell_type": "code",
   "execution_count": 9,
   "metadata": {},
   "outputs": [],
   "source": [
    "def r2_score(y_true, y_pred):\n",
    "    corr_matrix = np.corrcoef(y_true, y_pred)\n",
    "    corr = corr_matrix[0, 1]\n",
    "    return corr ** 2"
   ]
  },
  {
   "cell_type": "code",
   "execution_count": 10,
   "metadata": {},
   "outputs": [],
   "source": [
    "class LinearRegression:\n",
    "    \n",
    "    def __init__(self, learning_rate = 0.001, num_of_iters = 1000):\n",
    "        self.lr = learning_rate\n",
    "        self.num_of_iters = num_of_iters\n",
    "        self.weights = None\n",
    "        self.bias = None\n",
    "\n",
    "    \n",
    "    \n",
    "    \n",
    "    # Define the fit method with the training samples (X) and the training labels (y)\n",
    "    # This is where the Gradient Descent is applied\n",
    "    \n",
    "    def fit(self, X, y):\n",
    "        n_samples, n_features = X.shape\n",
    "\n",
    "        # initial parameters\n",
    "        self.weights = np.zeros(n_features)\n",
    "        self.bias = 0\n",
    "\n",
    "        # gradient descent\n",
    "        for _ in range(self.num_of_iters):\n",
    "            y_predicted = np.dot(X, self.weights) + self.bias\n",
    "            \n",
    "            # compute gradients\n",
    "            dw = (1 / n_samples) * np.dot(X.T, (y_predicted - y))\n",
    "            db = (1 / n_samples) * np.sum(y_predicted - y)\n",
    "\n",
    "            # update parameters\n",
    "            self.weights -= self.lr * dw\n",
    "            self.bias -= self.lr * db\n",
    "\n",
    "    \n",
    "    \n",
    "    \n",
    "    # Define the predict method with the test samples (X)\n",
    "    def predict(self, X):\n",
    "        y_approximated = np.dot(X, self.weights) + self.bias\n",
    "        return y_approximated"
   ]
  },
  {
   "cell_type": "markdown",
   "metadata": {},
   "source": [
    "# Linear Regression with Gradient Descent on Randomly Generated Data"
   ]
  },
  {
   "cell_type": "code",
   "execution_count": 11,
   "metadata": {},
   "outputs": [
    {
     "name": "stdout",
     "output_type": "stream",
     "text": [
      "MSE: 305.7719958301902\n",
      "Accuracy: 0.9253717934621969\n"
     ]
    },
    {
     "data": {
      "image/png": "[encoded data removed]",
      "text/plain": [
       "<Figure size 864x720 with 1 Axes>"
      ]
     },
     "metadata": {
      "needs_background": "light"
     },
     "output_type": "display_data"
    }
   ],
   "source": [
    "if __name__ == \"__main__\":\n",
    "    \n",
    "    \n",
    "    import matplotlib.pyplot as plt\n",
    "    from sklearn.model_selection import train_test_split\n",
    "    from sklearn import datasets\n",
    "\n",
    "    \n",
    "    def mean_squared_error(y_true, y_pred):\n",
    "        return np.mean((y_true - y_pred) ** 2)\n",
    "\n",
    "    \n",
    "    # This will generate the sample data\n",
    "    X, y = datasets.make_regression(\n",
    "        n_samples=100, n_features=1, noise=20, random_state=4\n",
    "    )\n",
    "\n",
    "    \n",
    "    # This will split the previously generated data into training samples/test samples and training labels/test labels\n",
    "    X_train, X_test, y_train, y_test = train_test_split(\n",
    "        X, y, test_size=0.2, random_state=1234\n",
    "    )\n",
    "\n",
    "    \n",
    "    # Create Regressors\n",
    "    regressor = LinearRegression(learning_rate=0.01, num_of_iters=1000)\n",
    "    \n",
    "    # Fit the training data\n",
    "    regressor.fit(X_train, y_train)\n",
    "    \n",
    "    # Predict the test samples\n",
    "    predictions = regressor.predict(X_test)\n",
    "\n",
    "    # Cost function that shows the difference between the actual value and the approximated value\n",
    "    mse = mean_squared_error(y_test, predictions)\n",
    "    print(\"MSE:\", mse)\n",
    "\n",
    "    # Shows the accuracy of our tests\n",
    "    accu = r2_score(y_test, predictions)\n",
    "    print(\"Accuracy:\", accu)\n",
    "\n",
    "    y_pred_line = regressor.predict(X)\n",
    "    cmap = plt.get_cmap(\"viridis\")\n",
    "    fig = plt.figure(figsize=(12, 10))\n",
    "    m1 = plt.scatter(X_train, y_train, color=cmap(0.9), s=10)\n",
    "    m2 = plt.scatter(X_test, y_test, color=cmap(0.5), s=10)\n",
    "    plt.plot(X, y_pred_line, color=\"black\", linewidth=2, label=\"Prediction\")\n",
    "    plt.show()"
   ]
  }
 ],
 "metadata": {
  "kernelspec": {
   "display_name": "Python 3 (ipykernel)",
   "language": "python",
   "name": "python3"
  },
  "language_info": {
   "codemirror_mode": {
    "name": "ipython",
    "version": 3
   },
   "file_extension": ".py",
   "mimetype": "text/x-python",
   "name": "python",
   "nbconvert_exporter": "python",
   "pygments_lexer": "ipython3",
   "version": "3.9.7"
  }
 },
 "nbformat": 4,
 "nbformat_minor": 4
}
